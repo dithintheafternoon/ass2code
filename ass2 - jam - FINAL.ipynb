{
 "cells": [
  {
   "cell_type": "code",
   "execution_count": 1,
   "metadata": {},
   "outputs": [],
   "source": [
    "import pandas as pd\n",
    "import numpy as np\n",
    "import matplotlib.pyplot as plt\n",
    "from typing import List, Union\n",
    "\n",
    "from sklearn import preprocessing\n",
    "from sklearn import metrics\n",
    "\n",
    "from sklearn.model_selection import cross_val_score, GridSearchCV,RepeatedStratifiedKFold, RandomizedSearchCV\n",
    "from sklearn.neighbors import KNeighborsClassifier\n",
    "from sklearn.svm import SVC\n",
    "from sklearn.ensemble import RandomForestClassifier, AdaBoostClassifier\n",
    "from sklearn.tree import DecisionTreeClassifier\n",
    "from sklearn.linear_model import LogisticRegression, Perceptron\n",
    "from sklearn.naive_bayes import MultinomialNB\n",
    "from sklearn.neural_network import MLPClassifier\n",
    "\n",
    "from mlxtend.classifier import StackingCVClassifier\n",
    "\n",
    "import warnings\n",
    "warnings.filterwarnings('ignore')"
   ]
  },
  {
   "cell_type": "code",
   "execution_count": 2,
   "metadata": {},
   "outputs": [],
   "source": [
    "train = pd.read_csv(\"train_dataset.csv\")#.dropna(subset=[\"language\"]).reset_index()\n",
    "test = pd.read_csv(\"test_dataset.csv\")\n",
    "labels = train.iloc[:,-1]\n",
    "ids_test = test.id"
   ]
  },
  {
   "cell_type": "markdown",
   "metadata": {},
   "source": [
    "# ZeroR and OneR"
   ]
  },
  {
   "cell_type": "code",
   "execution_count": 3,
   "metadata": {},
   "outputs": [
    {
     "name": "stdout",
     "output_type": "stream",
     "text": [
      "The ZeroR train accuracy is 0.6121837549933422\n"
     ]
    }
   ],
   "source": [
    "zeroR = [2] * test.shape[0]\n",
    "largest_group = train.imdb_score_binned.value_counts().nlargest(n=1).values[0]\n",
    "print(f\"The ZeroR train accuracy is {largest_group/train.shape[0]}\")"
   ]
  },
  {
   "cell_type": "code",
   "execution_count": 4,
   "metadata": {},
   "outputs": [],
   "source": [
    "def OneR(df, col, labels):\n",
    "    levels = {}\n",
    "\n",
    "    if df.dtypes[col]=='int64':\n",
    "        bins = np.histogram(df[col], bins=4)[1]\n",
    "        values = pd.DataFrame({'var' :   pd.Series(np.digitize(df[col], bins)), \n",
    "                               'label' : labels})  \n",
    "\n",
    "    else:\n",
    "        if len(df[col].unique())<100:\n",
    "            values = pd.DataFrame({'var' :  df[col], 'label' : labels})\n",
    "        else:\n",
    "            return [] # too computationally heavy if too many categories\n",
    "    \n",
    "    for x in values['var'].unique():\n",
    "        class_ = values[values['var'] == x].label.value_counts().nlargest(1, keep='all')\n",
    "\n",
    "        if len(class_)==0: \n",
    "            print(class_)\n",
    "        \n",
    "        if len(class_)>1: levels[x] = class_.sample(n=1)\n",
    "        levels[x] = class_.index[0]\n",
    "\n",
    "    pred = []\n",
    "    for i in range(values.shape[0]):\n",
    "        pred.append(levels[values['var'][i]])\n",
    "    return(pred)"
   ]
  },
  {
   "cell_type": "code",
   "execution_count": 5,
   "metadata": {},
   "outputs": [],
   "source": [
    "def OneR_fit(train, test, col):\n",
    "    levels = {}\n",
    "    \n",
    "    # values is df with the binned values\n",
    "\n",
    "    if train.dtypes[col]=='int64':\n",
    "        bins = np.histogram(train[col], bins=4)[1]\n",
    "        values = pd.DataFrame({'var' :   pd.Series(np.digitize(train[col], bins)), \n",
    "                               'label' : train['imdb_score_binned']})  \n",
    "\n",
    "    else:\n",
    "        if len(train[col].unique())<100:\n",
    "            values = pd.DataFrame({'var' :  train[col], 'label' : train['imdb_score_binned']})\n",
    "        else:\n",
    "            return [] # too computationally heavy if too many categories\n",
    "    \n",
    "    for x in values['var'].unique():\n",
    "        class_ = values[values['var'] == x].label.value_counts().nlargest(1, keep='all')\n",
    "        \n",
    "        if len(class_)>1: levels[x] = class_.sample(n=1)\n",
    "        levels[x] = class_.index[0]\n",
    "\n",
    "    # bin the test values\n",
    "    test_values = pd.Series(np.digitize(test[col], bins))\n",
    "\n",
    "    # Make predictions\n",
    "    pred = []\n",
    "    for i in range(len(test_values)):\n",
    "        pred.append(levels[test_values[i]])\n",
    "    return(pred)  "
   ]
  },
  {
   "cell_type": "code",
   "execution_count": 6,
   "metadata": {},
   "outputs": [],
   "source": [
    "pred_list = {}\n",
    "for i in range(1,train.shape[1]-1):\n",
    "    col = train.columns[i]\n",
    "    predictions = OneR(train, col, labels)\n",
    "    pred_list[col] = predictions"
   ]
  },
  {
   "cell_type": "code",
   "execution_count": 7,
   "metadata": {},
   "outputs": [],
   "source": [
    "scores = {}\n",
    "for col in pred_list.keys():\n",
    "    if len(pred_list[col])>0:\n",
    "        accuracy = pd.DataFrame({'pred':pred_list[col], 'actual':labels})\n",
    "        accuracy['correct'] = accuracy.actual==accuracy.pred\n",
    "        score = sum(accuracy.correct)/len(accuracy.correct)\n",
    "        scores[col] = score\n",
    "top_score = max(scores, key=scores.get)"
   ]
  },
  {
   "cell_type": "code",
   "execution_count": 8,
   "metadata": {},
   "outputs": [
    {
     "name": "stdout",
     "output_type": "stream",
     "text": [
      "The OneR is num_voted_users with train accuracy : 0.6361517976031957\n"
     ]
    }
   ],
   "source": [
    "print(f\"The OneR is {top_score} with train accuracy : {scores[top_score]}\")"
   ]
  },
  {
   "cell_type": "markdown",
   "metadata": {},
   "source": [
    "# Pre-processing"
   ]
  },
  {
   "cell_type": "code",
   "execution_count": null,
   "metadata": {},
   "outputs": [],
   "source": [
    "def parse_average(arr: str) -> float:\n",
    "    #output_array: List[float] = []\n",
    "    arr = arr[1:-1]\n",
    "    array: List[str] = arr.split()\n",
    "    total: float = 0\n",
    "    for i in range(len(array)):\n",
    "        total = total + float(array[i])\n",
    "    return total / len(array)"
   ]
  },
  {
   "cell_type": "code",
   "execution_count": null,
   "metadata": {},
   "outputs": [],
   "source": [
    "def average_title_embedding(train_df: pd.DataFrame):\n",
    "    print(len(train_df[\"title_embedding\"]))\n",
    "    av: pd.Series = train_df[\"title_embedding\"].apply(parse_average)\n",
    "    train_df[\"average_title_embedding\"] = av  "
   ]
  },
  {
   "cell_type": "code",
   "execution_count": 11,
   "metadata": {},
   "outputs": [],
   "source": [
    "# not used\n",
    "def add_engineered_dir_features(df:pd.DataFrame):\n",
    "    unique_dir = df[\"director_name\"].unique()\n",
    "    dir_movie_count: List[int] = [0] * len(df) #some random huge number. jut in case each director appears only once in the dataset\n",
    "\n",
    "    nmovies_for_director: List[int] = [1] * len(df)\n",
    "    dir_over_mean: List[int] = [0] * len(df)\n",
    "    dir_over_std1: List[int] = [0] * len(df)\n",
    "\n",
    "    for udir in unique_dir:\n",
    "        count: int = 0\n",
    "        for dir in df[\"director_name\"]:\n",
    "            if dir == udir:\n",
    "                count+=1\n",
    "\n",
    "        dir_movie_count[count] += 1\n",
    "\n",
    "        if count > 1:\n",
    "            for index, row in df[df[\"director_name\"] == udir].iterrows():\n",
    "                nmovies_for_director[index] = count\n",
    "\n",
    "    nmovie_mean = np.mean(nmovies_for_director)\n",
    "    nmovie_std1 = nmovie_mean + np.std(nmovies_for_director)\n",
    "\n",
    "    for count in nmovies_for_director:\n",
    "        #add it to a further array for 'well-known directors'\n",
    "        if count >= nmovie_mean:\n",
    "            dir_over_mean[index] = 1\n",
    "\n",
    "        if count >= nmovie_mean + nmovie_std1:\n",
    "            dir_over_std1[index] = 1\n",
    "\n",
    "    df[\"nmovies_director\"] = nmovies_for_director\n",
    "    df[\"dir_over_mean\"] = dir_over_mean\n",
    "    df[\"dir_over_std1\"] = dir_over_std1"
   ]
  },
  {
   "cell_type": "code",
   "execution_count": 12,
   "metadata": {},
   "outputs": [],
   "source": [
    "# not used\n",
    "def get_dir_avgross(df:pd.DataFrame):\n",
    "    average_gross = ((df.groupby([\"director_name\"]))[\"gross\"]).mean()\n",
    "\n",
    "    avgross_dir:List[int] = [0] * len(df)\n",
    "\n",
    "    for index, row in df.iterrows():\n",
    "        avgross_dir[index] = average_gross[row[\"director_name\"]]\n",
    "\n",
    "    df[\"avgross_dir\"] = avgross_dir"
   ]
  },
  {
   "cell_type": "code",
   "execution_count": 13,
   "metadata": {},
   "outputs": [],
   "source": [
    "# not used\n",
    "def sort_func(arr:List[List[Union[str,int]]]):\n",
    "    return arr[1]"
   ]
  },
  {
   "cell_type": "code",
   "execution_count": 14,
   "metadata": {},
   "outputs": [],
   "source": [
    "# not used\n",
    "def n_top_countries(df:pd.DataFrame, n:int):\n",
    "    unique_cnt = df[\"country\"].unique()\n",
    "\n",
    "    n_cnts: List[List[Union[str,int]]] = []\n",
    "\n",
    "    for ucnt in unique_cnt:\n",
    "        ucnt_arr = [ucnt, 0]\n",
    "        for cnt in df[\"country\"]:\n",
    "            if cnt == ucnt:\n",
    "                ucnt_arr[1]+=1\n",
    "\n",
    "        n_cnts.append(ucnt_arr)\n",
    "\n",
    "\n",
    "    cnt_sorted = sorted(n_cnts, key=sort_func)\n",
    "\n",
    "    cnt_sorted = cnt_sorted[-n:]\n",
    "\n",
    "    # now create columns for these top n countries\n",
    "    for cnt in cnt_sorted:\n",
    "        this_cnt:List[int] = []\n",
    "        for row in df[\"country\"]:\n",
    "            if row == cnt[0]:\n",
    "                this_cnt.append(1)\n",
    "            else:\n",
    "                this_cnt.append(0)\n",
    "        df[cnt[0]] = this_cnt"
   ]
  },
  {
   "cell_type": "code",
   "execution_count": 15,
   "metadata": {},
   "outputs": [],
   "source": [
    "# not used\n",
    "def n_top_languages(df:pd.DataFrame, n:int):\n",
    "    unique_lan = df[\"language\"].unique()\n",
    "\n",
    "    n_lans: List[List[Union[str,int]]] = []\n",
    "\n",
    "    for ulan in unique_lan:\n",
    "        ulan_arr = [ulan, 0]\n",
    "        for lan in df[\"language\"]:\n",
    "            if lan == ulan:\n",
    "                ulan_arr[1]+=1\n",
    "        n_lans.append(ulan_arr)\n",
    "\n",
    "    lan_sorted = sorted(n_lans, key=sort_func)\n",
    "\n",
    "    lan_sorted = lan_sorted[-n:]\n",
    "\n",
    "    # now create columns for these top n countries\n",
    "    for lan in lan_sorted:\n",
    "        this_lan:List[int] = []\n",
    "        for row in df[\"language\"]:\n",
    "            if row == lan[0]:                \n",
    "                this_lan.append(1)\n",
    "            else:\n",
    "                this_lan.append(0)\n",
    "        df[lan[0]] = this_lan"
   ]
  },
  {
   "cell_type": "code",
   "execution_count": null,
   "metadata": {},
   "outputs": [],
   "source": [
    "def preproc(df):\n",
    "    # Fix the genre column\n",
    "\n",
    "    genres = df['genres'].str.split(\"|\")\n",
    "    genres = list(set([a for b in genres.tolist() for a in b])) # get all the unique genres\n",
    "\n",
    "    for x in genres:\n",
    "        df[x] = df.genres.str.count(x) # this is gonna give 0 or 1 for each row and genre\n",
    "\n",
    "    df.drop([\"genres\"], axis=1, inplace=True)\n",
    "\n",
    "    # One hot encode language, country, content_rating\n",
    "    df = pd.get_dummies(df, columns=[\"language\", \"country\", \"content_rating\"], dtype=float)   \n",
    "    df = df.select_dtypes(['number'])\n",
    "\n",
    "    return(df)"
   ]
  },
  {
   "cell_type": "code",
   "execution_count": 16,
   "metadata": {},
   "outputs": [],
   "source": [
    "train = train.iloc[:, :-1]\n",
    "train.drop(['id'], axis=1, inplace=True)\n",
    "test.drop(['id'], axis=1, inplace=True)\n",
    "\n",
    "average_title_embedding(train)\n",
    "average_title_embedding(test)\n",
    "\n",
    "Data = preproc(train)\n",
    "Test = preproc(test)"
   ]
  },
  {
   "cell_type": "code",
   "execution_count": 17,
   "metadata": {},
   "outputs": [],
   "source": [
    "# ensure the one hot encoded columns are all the same and in the same order\n",
    "\n",
    "train_cols = Data.columns\n",
    "test_cols = Test.columns\n",
    "missing_levels = train_cols.difference(test_cols)\n",
    "\n",
    "for x in missing_levels:\n",
    "    Test[x] = 0\n",
    "Test = Test[Data.columns]"
   ]
  },
  {
   "cell_type": "code",
   "execution_count": 18,
   "metadata": {},
   "outputs": [],
   "source": [
    "Data_copy = Data.copy() # Make a copy to recall the column names after scaling.\n",
    "\n",
    "Data_scaler = preprocessing.MinMaxScaler() # create scaler\n",
    "Data_scaler.fit(Data) #fit scaler\n",
    "Data = Data_scaler.fit_transform(Data)\n",
    "Data_df = pd.DataFrame(Data, columns = Data_copy.columns)\n",
    "\n",
    "Test = Data_scaler.fit_transform(Test)\n",
    "Test_df = pd.DataFrame(Test, columns = Data_copy.columns)"
   ]
  },
  {
   "cell_type": "markdown",
   "metadata": {},
   "source": [
    "# Feature Selection"
   ]
  },
  {
   "cell_type": "code",
   "execution_count": 19,
   "metadata": {},
   "outputs": [],
   "source": [
    "num_features = 50 # pick a number of feature importances and reasses later\n",
    "\n",
    "model_rfi = RandomForestClassifier(n_estimators=100, random_state=11) #random forest for finding the important features\n",
    "model_rfi.fit(Data, labels)\n",
    "fs_indices_rfi = np.argsort(model_rfi.feature_importances_)[::-1][0:num_features]"
   ]
  },
  {
   "cell_type": "code",
   "execution_count": 20,
   "metadata": {},
   "outputs": [
    {
     "data": {
      "text/plain": [
       "array(['num_voted_users', 'num_user_for_reviews', 'duration',\n",
       "       'title_year', 'gross', 'num_critic_for_reviews', 'avgross_dir',\n",
       "       'actor_3_facebook_likes', 'movie_facebook_likes',\n",
       "       'director_facebook_likes', 'actor_2_facebook_likes',\n",
       "       'cast_total_facebook_likes', 'actor_1_facebook_likes',\n",
       "       'average_degree_centrality', 'nmovies_director',\n",
       "       'facenumber_in_poster', 'English', 'USA', 'UK', 'French',\n",
       "       'Germany', 'Canada', 'France', 'Japanese', 'Spanish', 'German',\n",
       "       'dir_over_mean', 'dir_over_std1'], dtype=object)"
      ]
     },
     "execution_count": 20,
     "metadata": {},
     "output_type": "execute_result"
    }
   ],
   "source": [
    "best_features_rfi = Data_df.columns[fs_indices_rfi].values\n",
    "best_features_rfi"
   ]
  },
  {
   "cell_type": "code",
   "execution_count": 21,
   "metadata": {},
   "outputs": [
    {
     "data": {
      "text/plain": [
       "array([1.31260822e-01, 8.21817368e-02, 7.28069824e-02, 6.93645334e-02,\n",
       "       6.67582731e-02, 6.34943579e-02, 6.13234442e-02, 5.80999185e-02,\n",
       "       5.66732208e-02, 5.41960873e-02, 5.31342846e-02, 5.21424806e-02,\n",
       "       4.49774015e-02, 4.41184680e-02, 2.78982447e-02, 2.35796194e-02,\n",
       "       1.33571265e-02, 8.89129924e-03, 6.39255458e-03, 2.38587942e-03,\n",
       "       1.96960080e-03, 1.69431231e-03, 1.66438563e-03, 6.67938042e-04,\n",
       "       6.41046066e-04, 2.59534839e-04, 6.64472125e-05, 0.00000000e+00])"
      ]
     },
     "execution_count": 21,
     "metadata": {},
     "output_type": "execute_result"
    }
   ],
   "source": [
    "feature_importances_rfi = model_rfi.feature_importances_[fs_indices_rfi]\n",
    "feature_importances_rfi"
   ]
  },
  {
   "cell_type": "code",
   "execution_count": 22,
   "metadata": {},
   "outputs": [
    {
     "data": {
      "image/png": "[encoded data removed]",
      "text/plain": [
       "<Figure size 640x480 with 1 Axes>"
      ]
     },
     "metadata": {},
     "output_type": "display_data"
    }
   ],
   "source": [
    "plt.barh(best_features_rfi, feature_importances_rfi)\n",
    "plt.title('Feature Importances')\n",
    "plt.xlabel(\"Importance\")\n",
    "plt.ylabel(\"Features\")\n",
    "plt.show()\n",
    "\n",
    "# below is how much of the variance each of the best 25 features can explain"
   ]
  },
  {
   "cell_type": "code",
   "execution_count": 23,
   "metadata": {},
   "outputs": [],
   "source": [
    "D_train_fs20 = Data[:, fs_indices_rfi[0:20]]\n",
    "D_test_fs20  = Test[:, fs_indices_rfi[0:20]]\n",
    "\n",
    "D_train_fs50 = Data[:, fs_indices_rfi[0:50]]\n",
    "D_test_fs50  = Test[:, fs_indices_rfi[0:50]]\n",
    "\n",
    "D_train_fs = Data.copy()\n",
    "D_test_fs  = Test.copy()"
   ]
  },
  {
   "cell_type": "markdown",
   "metadata": {},
   "source": [
    "# Models\n",
    "\n",
    "#### Define cross validation method, to be used throughout"
   ]
  },
  {
   "cell_type": "code",
   "execution_count": 24,
   "metadata": {},
   "outputs": [],
   "source": [
    "cv_method = RepeatedStratifiedKFold(n_splits=5,\n",
    "                                    n_repeats=3,\n",
    "                                    random_state=11)"
   ]
  },
  {
   "cell_type": "markdown",
   "metadata": {},
   "source": [
    "### KNN"
   ]
  },
  {
   "cell_type": "code",
   "execution_count": null,
   "metadata": {},
   "outputs": [],
   "source": []
  },
  {
   "cell_type": "markdown",
   "metadata": {},
   "source": [
    "### SVM"
   ]
  },
  {
   "cell_type": "code",
   "execution_count": 25,
   "metadata": {},
   "outputs": [
    {
     "name": "stdout",
     "output_type": "stream",
     "text": [
      "0.8309976886159478\n",
      "0.6849761508596784\n"
     ]
    }
   ],
   "source": [
    "model_SVM_linear = SVC(kernel='linear', decision_function_shape='ovr', break_ties=True, probability=True)\n",
    "print(np.mean(cross_val_score(model_SVM_linear, Data, labels, scoring='roc_auc_ovr', cv=cv_method, n_jobs=-1)))\n",
    "print(np.mean(cross_val_score(model_SVM_linear, Data, labels, scoring='accuracy', cv=cv_method, n_jobs=-1)))"
   ]
  },
  {
   "cell_type": "code",
   "execution_count": 26,
   "metadata": {},
   "outputs": [
    {
     "data": {
      "text/plain": [
       "0.8170009982096237"
      ]
     },
     "execution_count": 26,
     "metadata": {},
     "output_type": "execute_result"
    }
   ],
   "source": [
    "model_SVM_poly = SVC(kernel='poly', decision_function_shape='ovr', break_ties=True,probability=True)\n",
    "np.mean(cross_val_score(model_SVM_poly, Data, labels, scoring='roc_auc_ovr', cv=cv_method, n_jobs=-1))"
   ]
  },
  {
   "cell_type": "code",
   "execution_count": 27,
   "metadata": {},
   "outputs": [
    {
     "data": {
      "text/plain": [
       "0.7388355178492971"
      ]
     },
     "execution_count": 27,
     "metadata": {},
     "output_type": "execute_result"
    }
   ],
   "source": [
    "model_SVM_sigmoid = SVC(kernel='sigmoid', decision_function_shape='ovr', break_ties=True,probability=True)\n",
    "np.mean(cross_val_score(model_SVM_sigmoid, Data, labels, scoring='roc_auc_ovr', cv=cv_method, n_jobs=-1))"
   ]
  },
  {
   "cell_type": "code",
   "execution_count": 28,
   "metadata": {},
   "outputs": [],
   "source": [
    "# Predicting the train set results\n",
    "\n",
    "model_SVM_linear.fit(Data, labels)\n",
    "model_SVM_poly.fit(Data, labels)\n",
    "model_SVM_sigmoid.fit(Data,labels)\n",
    "\n",
    "linear_pred = model_SVM_linear.predict(Data)\n",
    "poly_pred = model_SVM_poly.predict(Data)\n",
    "sigmoid_pred = model_SVM_sigmoid.predict(Data)\n",
    "\n",
    "linear_cm = metrics.confusion_matrix(labels, linear_pred)\n",
    "poly_cm = metrics.confusion_matrix(labels, poly_pred)\n",
    "sigmoid_cm = metrics.confusion_matrix(labels, sigmoid_pred)"
   ]
  },
  {
   "cell_type": "code",
   "execution_count": 29,
   "metadata": {},
   "outputs": [
    {
     "name": "stdout",
     "output_type": "stream",
     "text": [
      "SVM : Linear Kernel \n",
      " [[   0    0   24    0    0]\n",
      " [   0    0  233    2    0]\n",
      " [   0    0 1755   84    0]\n",
      " [   0    0  517  258    2]\n",
      " [   0    0    6   58   65]] \n",
      "\n",
      "SVM : Polynomial Kernel \n",
      " [[   0    0   24    0    0]\n",
      " [   0    0  234    1    0]\n",
      " [   0    0 1767   72    0]\n",
      " [   0    0  493  282    2]\n",
      " [   0    0    3   60   66]] \n",
      "\n",
      "SVM : Sigmoid Kernel \n",
      " [[   0    0   23    1    0]\n",
      " [   0    0  221   14    0]\n",
      " [   0    0 1610  229    0]\n",
      " [   0    2  549  226    0]\n",
      " [   0    1   46   74    8]] \n",
      "\n",
      "\n",
      "\n"
     ]
    }
   ],
   "source": [
    "print(f\"SVM : Linear Kernel \\n {linear_cm} \\n\") \n",
    "print(f\"SVM : Polynomial Kernel \\n {poly_cm} \\n\") \n",
    "print(f\"SVM : Sigmoid Kernel \\n {sigmoid_cm} \\n\") \n",
    "print(\"\\n\")"
   ]
  },
  {
   "cell_type": "code",
   "execution_count": 30,
   "metadata": {},
   "outputs": [
    {
     "name": "stdout",
     "output_type": "stream",
     "text": [
      "\n",
      "Classification report for Linear\n",
      "              precision    recall  f1-score   support\n",
      "\n",
      "           0       1.00      0.00      0.00        24\n",
      "           1       1.00      0.00      0.00       235\n",
      "           2       0.69      0.95      0.80      1839\n",
      "           3       0.64      0.33      0.44       777\n",
      "           4       0.97      0.50      0.66       129\n",
      "\n",
      "    accuracy                           0.69      3004\n",
      "   macro avg       0.86      0.36      0.38      3004\n",
      "weighted avg       0.72      0.69      0.63      3004\n",
      "\n",
      "---------------------------------------------------------\n",
      "\n",
      "Classification report for Polynomial\n",
      "              precision    recall  f1-score   support\n",
      "\n",
      "           0       1.00      0.00      0.00        24\n",
      "           1       1.00      0.00      0.00       235\n",
      "           2       0.70      0.96      0.81      1839\n",
      "           3       0.68      0.36      0.47       777\n",
      "           4       0.97      0.51      0.67       129\n",
      "\n",
      "    accuracy                           0.70      3004\n",
      "   macro avg       0.87      0.37      0.39      3004\n",
      "weighted avg       0.73      0.70      0.65      3004\n",
      "\n",
      "---------------------------------------------------------\n",
      "\n",
      "Classification report for Sigmoid\n",
      "              precision    recall  f1-score   support\n",
      "\n",
      "           0       1.00      0.00      0.00        24\n",
      "           1       0.00      0.00      1.00       235\n",
      "           2       0.66      0.88      0.75      1839\n",
      "           3       0.42      0.29      0.34       777\n",
      "           4       1.00      0.06      0.12       129\n",
      "\n",
      "    accuracy                           0.61      3004\n",
      "   macro avg       0.61      0.25      0.44      3004\n",
      "weighted avg       0.56      0.61      0.63      3004\n",
      "\n",
      "---------------------------------------------------------\n"
     ]
    }
   ],
   "source": [
    "print(\"\\nClassification report for Linear\") \n",
    "print(metrics.classification_report(labels, linear_pred, zero_division=True))\n",
    "print('---------------------------------------------------------')\n",
    "print(\"\\nClassification report for Polynomial\") \n",
    "print(metrics.classification_report(labels, poly_pred,zero_division=True))\n",
    "print('---------------------------------------------------------')\n",
    "print(\"\\nClassification report for Sigmoid\") \n",
    "print(metrics.classification_report(labels, sigmoid_pred,zero_division=True))\n",
    "print('---------------------------------------------------------')"
   ]
  },
  {
   "cell_type": "markdown",
   "metadata": {},
   "source": [
    "## SVM with Class Weight = Balanced "
   ]
  },
  {
   "cell_type": "code",
   "execution_count": 31,
   "metadata": {},
   "outputs": [],
   "source": [
    "SVM_linear_bal = SVC(kernel='linear', decision_function_shape='ovr', break_ties=True, probability=True, class_weight='balanced')\n",
    "roc_lin = np.mean(cross_val_score(SVM_linear_bal, Data, labels, scoring='roc_auc_ovr', cv=cv_method, n_jobs=-1))\n",
    "acc_lin = np.mean(cross_val_score(SVM_linear_bal, Data, labels, scoring='accuracy', cv=cv_method, n_jobs=-1))"
   ]
  },
  {
   "cell_type": "code",
   "execution_count": 32,
   "metadata": {},
   "outputs": [],
   "source": [
    "SVM_poly_bal = SVC(kernel='poly', decision_function_shape='ovr', break_ties=True,probability=True, class_weight='balanced')\n",
    "roc_poly = np.mean(cross_val_score(SVM_poly_bal, Data, labels, scoring='roc_auc_ovr', cv=cv_method, n_jobs=-1))\n",
    "acc_poly = np.mean(cross_val_score(SVM_poly_bal, Data, labels, scoring='accuracy', cv=cv_method, n_jobs=-1))"
   ]
  },
  {
   "cell_type": "code",
   "execution_count": 33,
   "metadata": {},
   "outputs": [],
   "source": [
    "SVM_sigmoid_bal = SVC(kernel='sigmoid', decision_function_shape='ovr', break_ties=True,probability=True, class_weight='balanced')\n",
    "roc_sig = np.mean(cross_val_score(SVM_sigmoid_bal, Data, labels, scoring='roc_auc_ovr', cv=cv_method, n_jobs=-1))\n",
    "acc_sig = np.mean(cross_val_score(SVM_sigmoid_bal, Data, labels, scoring='accuracy', cv=cv_method, n_jobs=-1))"
   ]
  },
  {
   "cell_type": "code",
   "execution_count": 34,
   "metadata": {},
   "outputs": [],
   "source": [
    "# Predicting the train set results\n",
    "\n",
    "SVM_linear_bal.fit(Data, labels)\n",
    "SVM_poly_bal.fit(Data, labels)\n",
    "SVM_sigmoid_bal.fit(Data,labels)\n",
    "\n",
    "linear_pred_bal = SVM_linear_bal.predict(Data)\n",
    "poly_pred_bal = SVM_poly_bal.predict(Data)\n",
    "sigmoid_pred_bal = SVM_sigmoid_bal.predict(Data)\n",
    "\n",
    "linear_cm_bal = metrics.confusion_matrix(labels, linear_pred_bal)\n",
    "poly_cm_bal = metrics.confusion_matrix(labels, poly_pred_bal)\n",
    "sigmoid_cm_bal = metrics.confusion_matrix(labels, sigmoid_pred_bal)"
   ]
  },
  {
   "cell_type": "code",
   "execution_count": 35,
   "metadata": {},
   "outputs": [
    {
     "name": "stdout",
     "output_type": "stream",
     "text": [
      "SVM : Linear Kernel \n",
      " [[ 22   1   1   0   0]\n",
      " [ 81 120  22  11   1]\n",
      " [344 508 650 310  27]\n",
      " [ 66  64 165 394  88]\n",
      " [  0   1   1   9 118]]\n",
      "roc_auc: 0.8209151813633595 \n",
      "accuracy: 0.41289166204474015\n",
      "\n",
      "SVM : Polynomial Kernel \n",
      " [[ 22   2   0   0   0]\n",
      " [ 78 122  23  12   0]\n",
      " [319 492 676 313  39]\n",
      " [ 60  62 140 424  91]\n",
      " [  0   0   1   8 120]]\n",
      "roc_auc: 0.8221641485929543 \n",
      "accuracy: 0.4213285265298576\n",
      "\n",
      "SVM : Sigmoid Kernel \n",
      " [[ 23   0   1   0   0]\n",
      " [141  52  31  10   1]\n",
      " [632 297 613 286  11]\n",
      " [127  38 231 312  69]\n",
      " [  8   0   8  27  86]]\n",
      "roc_auc: 0.7847449486604895 \n",
      "accuracy: 0.3432044740247735\n"
     ]
    }
   ],
   "source": [
    "print(f\"SVM : Linear Kernel \\n {linear_cm_bal}\")\n",
    "print(f\"roc_auc: {roc_lin} \\naccuracy: {acc_lin}\\n\")\n",
    "print(f\"SVM : Polynomial Kernel \\n {poly_cm_bal}\")\n",
    "print(f\"roc_auc: {roc_poly} \\naccuracy: {acc_poly}\\n\")\n",
    "print(f\"SVM : Sigmoid Kernel \\n {sigmoid_cm_bal}\") \n",
    "print(f\"roc_auc: {roc_sig} \\naccuracy: {acc_sig}\")"
   ]
  },
  {
   "cell_type": "markdown",
   "metadata": {},
   "source": [
    "### Random Forest"
   ]
  },
  {
   "cell_type": "code",
   "execution_count": 36,
   "metadata": {},
   "outputs": [],
   "source": [
    "perf_metric = \"roc_auc_ovr\" \n",
    "criterion = [\"gini\", \"entropy\"]"
   ]
  },
  {
   "cell_type": "code",
   "execution_count": 37,
   "metadata": {},
   "outputs": [],
   "source": [
    "# hyper parameters to search through\n",
    "\n",
    "depth = np.linspace(1, 20, 20, endpoint=True).astype(int) # maximum depth of a tree\n",
    "n_estimators = [100, 250, 500] # number of trees\n",
    "params_RF = dict(criterion=criterion, max_depth=depth, n_estimators=n_estimators)\n",
    "\n",
    "gs_RF = RandomizedSearchCV(estimator=RandomForestClassifier(random_state=11, n_jobs=5), \n",
    "                           param_distributions=params_RF, \n",
    "                           cv=cv_method,\n",
    "                           verbose=0,\n",
    "                           n_iter=35,\n",
    "                           scoring=perf_metric)\n",
    "\n",
    "gs_RF.fit(D_train_fs, labels);"
   ]
  },
  {
   "cell_type": "code",
   "execution_count": 38,
   "metadata": {},
   "outputs": [],
   "source": [
    "# hyper parameters to search through\n",
    "\n",
    "depth = np.linspace(1, 20, 20, endpoint=True).astype(int) # maximum depth of a tree\n",
    "n_estimators = [100, 250, 500] # number of trees\n",
    "params_RF = dict(criterion=criterion, max_depth=depth, n_estimators=n_estimators)\n",
    "\n",
    "gs_RF20 = RandomizedSearchCV(estimator=RandomForestClassifier(random_state=11, n_jobs=5), \n",
    "                           param_distributions=params_RF, \n",
    "                           cv=cv_method,\n",
    "                           verbose=0,\n",
    "                           n_iter=35,\n",
    "                           scoring=perf_metric)\n",
    "\n",
    "gs_RF20.fit(D_train_fs20, labels);"
   ]
  },
  {
   "cell_type": "code",
   "execution_count": 39,
   "metadata": {},
   "outputs": [],
   "source": [
    "# hyper parameters to search through\n",
    "\n",
    "depth = np.linspace(1, 20, 20, endpoint=True).astype(int) # maximum depth of a tree\n",
    "n_estimators = [100, 250, 500] # number of trees\n",
    "params_RF = dict(criterion=criterion, max_depth=depth, n_estimators=n_estimators)\n",
    "\n",
    "gs_RF50 = RandomizedSearchCV(estimator=RandomForestClassifier(random_state=11, n_jobs=5), \n",
    "                           param_distributions=params_RF, \n",
    "                           cv=cv_method,\n",
    "                           verbose=0,\n",
    "                           n_iter=35,\n",
    "                           scoring=perf_metric)\n",
    "\n",
    "gs_RF50.fit(D_train_fs50, labels);"
   ]
  },
  {
   "cell_type": "code",
   "execution_count": 40,
   "metadata": {},
   "outputs": [
    {
     "name": "stdout",
     "output_type": "stream",
     "text": [
      "Best parameters: {'n_estimators': 500, 'max_depth': 18, 'criterion': 'gini'}\n",
      "Best score: 0.8622740054249269\n",
      "\n",
      "Best parameters (20 cols): {'n_estimators': 250, 'max_depth': 12, 'criterion': 'entropy'}\n",
      "Best score (20 cols): 0.8628579486146151\n",
      "\n",
      "Best parameters (50 cols): {'n_estimators': 500, 'max_depth': 14, 'criterion': 'gini'}\n",
      "Best score (50 cols): 0.8652758962620521\n",
      "\n"
     ]
    }
   ],
   "source": [
    "print(f\"Best parameters: {gs_RF.best_params_}\")\n",
    "print(f\"Best score: {gs_RF.best_score_}\\n\")\n",
    "\n",
    "print(f\"Best parameters (20 cols): {gs_RF20.best_params_}\")\n",
    "print(f\"Best score (20 cols): {gs_RF20.best_score_}\\n\")\n",
    "\n",
    "print(f\"Best parameters (50 cols): {gs_RF50.best_params_}\")\n",
    "print(f\"Best score (50 cols): {gs_RF50.best_score_}\\n\")"
   ]
  },
  {
   "cell_type": "code",
   "execution_count": 41,
   "metadata": {},
   "outputs": [],
   "source": [
    "pred_RF = gs_RF.predict(D_train_fs)\n",
    "cm_RF = metrics.confusion_matrix(labels, pred_RF)\n",
    "\n",
    "pred_RF20 = gs_RF20.predict(D_train_fs20)\n",
    "cm_RF20 = metrics.confusion_matrix(labels, pred_RF20)\n",
    "\n",
    "pred_RF50 = gs_RF50.predict(D_train_fs50)\n",
    "cm_RF50 = metrics.confusion_matrix(labels, pred_RF50)"
   ]
  },
  {
   "cell_type": "code",
   "execution_count": 42,
   "metadata": {},
   "outputs": [
    {
     "name": "stdout",
     "output_type": "stream",
     "text": [
      "Confusion Matrix: All columns \n",
      "[[  21    0    3    0    0]\n",
      " [   0  227    8    0    0]\n",
      " [   0    0 1839    0    0]\n",
      " [   0    0    2  775    0]\n",
      " [   0    0    0    0  129]]\n",
      "\n",
      "Confusion Matrix: Top 20 columns \n",
      "[[  12    0   12    0    0]\n",
      " [   0  112  123    0    0]\n",
      " [   0    0 1839    0    0]\n",
      " [   0    0   62  715    0]\n",
      " [   0    0    0    0  129]]\n",
      "\n",
      "Confusion Matrix: Top 50 columns \n",
      "[[   9    0   15    0    0]\n",
      " [   0  115  120    0    0]\n",
      " [   0    0 1839    0    0]\n",
      " [   0    0   56  721    0]\n",
      " [   0    0    1    0  128]]\n",
      "\n"
     ]
    }
   ],
   "source": [
    "print(f\"Confusion Matrix: All columns \\n{cm_RF}\\n\")\n",
    "print(f\"Confusion Matrix: Top 20 columns \\n{cm_RF20}\\n\")\n",
    "print(f\"Confusion Matrix: Top 50 columns \\n{cm_RF50}\\n\")"
   ]
  },
  {
   "cell_type": "code",
   "execution_count": 43,
   "metadata": {},
   "outputs": [
    {
     "data": {
      "image/png": "[encoded data removed]",
      "text/plain": [
       "<Figure size 640x480 with 1 Axes>"
      ]
     },
     "metadata": {},
     "output_type": "display_data"
    }
   ],
   "source": [
    "results_RF = pd.DataFrame(gs_RF.cv_results_['params'])\n",
    "results_RF['test_score'] = gs_RF.cv_results_['mean_test_score']\n",
    "\n",
    "for i in results_RF['n_estimators'].unique():\n",
    "    perf = results_RF[results_RF['n_estimators'] == i]\n",
    "    perf_average = perf.groupby('max_depth').agg({'test_score': 'mean'})\n",
    "    plt.plot(perf_average, marker = '.', label = 'n_estimators: ' + str(i))\n",
    "    \n",
    "plt.legend()\n",
    "plt.xlabel('Max Depth')\n",
    "plt.ylabel(\"Mean CV Score\")\n",
    "plt.title(\"RF Hyper-parameter Performance\")\n",
    "plt.show()"
   ]
  },
  {
   "cell_type": "markdown",
   "metadata": {},
   "source": [
    "### AdaBoost"
   ]
  },
  {
   "cell_type": "code",
   "execution_count": 62,
   "metadata": {},
   "outputs": [],
   "source": [
    "params_Ada = dict(algorithm=[\"SAMME\", \"SAMME.R\"], n_estimators=[100, 250, 500])\n",
    "\n",
    "# set Decision Tree max depth to 1, to make it a decision stump.\n",
    "# previously AdaBoost was overfitting when using a Decision Tree with no maximum depth. \n",
    "gs_Ada = GridSearchCV(estimator=AdaBoostClassifier(estimator=DecisionTreeClassifier(max_depth=2), random_state=11),\n",
    "                      param_grid=params_Ada,\n",
    "                      cv=cv_method,\n",
    "                      verbose=0,\n",
    "                      scoring=perf_metric)\n",
    "\n",
    "gs_Ada.fit(D_train_fs, labels);"
   ]
  },
  {
   "cell_type": "code",
   "execution_count": 61,
   "metadata": {},
   "outputs": [
    {
     "name": "stdout",
     "output_type": "stream",
     "text": [
      "[[   0    0   24    0    0]\n",
      " [   0    0  232    3    0]\n",
      " [   0    0 1705  134    0]\n",
      " [   0    0  537  240    0]\n",
      " [   0    0   24  105    0]]\n"
     ]
    }
   ],
   "source": [
    "stump = DecisionTreeClassifier(max_depth=1)\n",
    "stump.fit(D_train_fs, labels)\n",
    "pred_stump = stump.predict(D_train_fs)\n",
    "cm_stump = metrics.confusion_matrix(labels, pred_stump)\n",
    "print(cm_stump)"
   ]
  },
  {
   "cell_type": "markdown",
   "metadata": {},
   "source": [
    "Best parameters: {'algorithm': 'SAMME', 'n_estimators': 100}\n",
    "Best score: 0.7907178809913439"
   ]
  },
  {
   "cell_type": "code",
   "execution_count": 63,
   "metadata": {},
   "outputs": [
    {
     "name": "stdout",
     "output_type": "stream",
     "text": [
      "Best parameters: {'algorithm': 'SAMME', 'n_estimators': 100}\n",
      "Best score: 0.8187565043479018\n"
     ]
    }
   ],
   "source": [
    "print(f\"Best parameters: {gs_Ada.best_params_}\")\n",
    "print(f\"Best score: {gs_Ada.best_score_}\")"
   ]
  },
  {
   "cell_type": "code",
   "execution_count": 64,
   "metadata": {},
   "outputs": [
    {
     "name": "stdout",
     "output_type": "stream",
     "text": [
      "[[   4    4   16    0    0]\n",
      " [   0   78  148    9    0]\n",
      " [   1  123 1337  378    0]\n",
      " [   0    5  217  541   14]\n",
      " [   0    0    1   44   84]]\n"
     ]
    }
   ],
   "source": [
    "pred_Ada = gs_Ada.predict(D_train_fs)\n",
    "cm_Ada = metrics.confusion_matrix(labels, pred_Ada)\n",
    "print(cm_Ada)"
   ]
  },
  {
   "cell_type": "markdown",
   "metadata": {},
   "source": [
    "### Stacking Ensemble"
   ]
  },
  {
   "cell_type": "code",
   "execution_count": 44,
   "metadata": {},
   "outputs": [],
   "source": [
    "models = dict()\n",
    "\n",
    "models['KNN'] = KNeighborsClassifier()\n",
    "models['SVM'] = SVC(kernel='linear', decision_function_shape='ovr', break_ties=True, class_weight='balanced', probability=True, random_state=11)\n",
    "models['LR'] = LogisticRegression(max_iter=1000, solver='sag', random_state=11)\n",
    "models['MNB'] = MultinomialNB()\n",
    "models['DT'] = DecisionTreeClassifier(random_state=11)\n",
    "models['RF'] = RandomForestClassifier(random_state=11)\n",
    "models['ADABOOST'] = AdaBoostClassifier(estimator=DecisionTreeClassifier(max_depth=1,random_state=11),random_state=11)"
   ]
  },
  {
   "cell_type": "code",
   "execution_count": 45,
   "metadata": {},
   "outputs": [
    {
     "name": "stdout",
     "output_type": "stream",
     "text": [
      "KNN\n",
      "[0.60898502 0.61231281 0.62562396 0.64559068 0.635      0.63560732\n",
      " 0.6655574  0.6422629  0.62728785 0.62166667 0.64559068 0.63061564\n",
      " 0.62562396 0.65890183 0.63833333]\n",
      "SVM\n",
      "[0.4093178  0.4359401  0.36605657 0.45257903 0.40666667 0.41264559\n",
      " 0.42429285 0.40432612 0.41930116 0.41166667 0.4109817  0.36772047\n",
      " 0.43261231 0.43926789 0.4       ]\n",
      "LR\n",
      "[0.6672213  0.68219634 0.6672213  0.67221298 0.675      0.6655574\n",
      " 0.71214642 0.65391015 0.65890183 0.66666667 0.68053245 0.65224626\n",
      " 0.67387687 0.69550749 0.66166667]\n",
      "MNB\n",
      "[0.62895175 0.62063228 0.62562396 0.62396007 0.64       0.63560732\n",
      " 0.63394343 0.62396007 0.60732113 0.62333333 0.62229617 0.62063228\n",
      " 0.63560732 0.62895175 0.62666667]\n",
      "DT\n",
      "[0.59900166 0.61896839 0.60232945 0.59234609 0.595      0.64392679\n",
      " 0.60232945 0.63394343 0.62895175 0.59833333 0.61730449 0.56572379\n",
      " 0.59400998 0.6422629  0.63166667]\n",
      "RF\n",
      "[0.73377704 0.72379368 0.6921797  0.72878536 0.72166667 0.72046589\n",
      " 0.75207987 0.73377704 0.70049917 0.69666667 0.72379368 0.69384359\n",
      " 0.72878536 0.74875208 0.725     ]\n",
      "ADABOOST\n",
      "[0.63394343 0.57237937 0.62895175 0.63560732 0.645      0.62895175\n",
      " 0.42429285 0.64725458 0.60232945 0.41666667 0.41763727 0.63227953\n",
      " 0.39600666 0.64891847 0.65833333]\n"
     ]
    }
   ],
   "source": [
    "for model in models:\n",
    "    scores = cross_val_score(models[model], Data, labels, scoring='accuracy', cv=cv_method, n_jobs=-1, error_score='raise')\n",
    "    print(model)\n",
    "    print(scores)"
   ]
  },
  {
   "cell_type": "code",
   "execution_count": 46,
   "metadata": {},
   "outputs": [
    {
     "data": {
      "text/html": [
       "<div>\n",
       "<style scoped>\n",
       "    .dataframe tbody tr th:only-of-type {\n",
       "        vertical-align: middle;\n",
       "    }\n",
       "\n",
       "    .dataframe tbody tr th {\n",
       "        vertical-align: top;\n",
       "    }\n",
       "\n",
       "    .dataframe thead th {\n",
       "        text-align: right;\n",
       "    }\n",
       "</style>\n",
       "<table border=\"1\" class=\"dataframe\">\n",
       "  <thead>\n",
       "    <tr style=\"text-align: right;\">\n",
       "      <th></th>\n",
       "      <th>KNN</th>\n",
       "      <th>SVM</th>\n",
       "      <th>LR</th>\n",
       "      <th>MNB</th>\n",
       "      <th>DT</th>\n",
       "      <th>RF</th>\n",
       "      <th>ADABOOST</th>\n",
       "    </tr>\n",
       "  </thead>\n",
       "  <tbody>\n",
       "    <tr>\n",
       "      <th>KNN</th>\n",
       "      <td>1.000000</td>\n",
       "      <td>0.560940</td>\n",
       "      <td>0.580909</td>\n",
       "      <td>0.335018</td>\n",
       "      <td>0.569633</td>\n",
       "      <td>0.569633</td>\n",
       "      <td>0.403688</td>\n",
       "    </tr>\n",
       "    <tr>\n",
       "      <th>SVM</th>\n",
       "      <td>0.560940</td>\n",
       "      <td>1.000000</td>\n",
       "      <td>0.610960</td>\n",
       "      <td>0.301653</td>\n",
       "      <td>0.543770</td>\n",
       "      <td>0.543770</td>\n",
       "      <td>0.534145</td>\n",
       "    </tr>\n",
       "    <tr>\n",
       "      <th>LR</th>\n",
       "      <td>0.580909</td>\n",
       "      <td>0.610960</td>\n",
       "      <td>1.000000</td>\n",
       "      <td>0.466282</td>\n",
       "      <td>0.529054</td>\n",
       "      <td>0.529054</td>\n",
       "      <td>0.494961</td>\n",
       "    </tr>\n",
       "    <tr>\n",
       "      <th>MNB</th>\n",
       "      <td>0.335018</td>\n",
       "      <td>0.301653</td>\n",
       "      <td>0.466282</td>\n",
       "      <td>1.000000</td>\n",
       "      <td>0.264889</td>\n",
       "      <td>0.264889</td>\n",
       "      <td>0.257591</td>\n",
       "    </tr>\n",
       "    <tr>\n",
       "      <th>DT</th>\n",
       "      <td>0.569633</td>\n",
       "      <td>0.543770</td>\n",
       "      <td>0.529054</td>\n",
       "      <td>0.264889</td>\n",
       "      <td>1.000000</td>\n",
       "      <td>1.000000</td>\n",
       "      <td>0.432365</td>\n",
       "    </tr>\n",
       "    <tr>\n",
       "      <th>RF</th>\n",
       "      <td>0.569633</td>\n",
       "      <td>0.543770</td>\n",
       "      <td>0.529054</td>\n",
       "      <td>0.264889</td>\n",
       "      <td>1.000000</td>\n",
       "      <td>1.000000</td>\n",
       "      <td>0.432365</td>\n",
       "    </tr>\n",
       "    <tr>\n",
       "      <th>ADABOOST</th>\n",
       "      <td>0.403688</td>\n",
       "      <td>0.534145</td>\n",
       "      <td>0.494961</td>\n",
       "      <td>0.257591</td>\n",
       "      <td>0.432365</td>\n",
       "      <td>0.432365</td>\n",
       "      <td>1.000000</td>\n",
       "    </tr>\n",
       "  </tbody>\n",
       "</table>\n",
       "</div>"
      ],
      "text/plain": [
       "               KNN       SVM        LR       MNB        DT        RF  ADABOOST\n",
       "KNN       1.000000  0.560940  0.580909  0.335018  0.569633  0.569633  0.403688\n",
       "SVM       0.560940  1.000000  0.610960  0.301653  0.543770  0.543770  0.534145\n",
       "LR        0.580909  0.610960  1.000000  0.466282  0.529054  0.529054  0.494961\n",
       "MNB       0.335018  0.301653  0.466282  1.000000  0.264889  0.264889  0.257591\n",
       "DT        0.569633  0.543770  0.529054  0.264889  1.000000  1.000000  0.432365\n",
       "RF        0.569633  0.543770  0.529054  0.264889  1.000000  1.000000  0.432365\n",
       "ADABOOST  0.403688  0.534145  0.494961  0.257591  0.432365  0.432365  1.000000"
      ]
     },
     "execution_count": 46,
     "metadata": {},
     "output_type": "execute_result"
    }
   ],
   "source": [
    "predictions = []\n",
    "for model in models:\n",
    "    models[model].fit(Data,labels)\n",
    "    model_pred = models[model].predict(Data)\n",
    "    predictions.append(pd.Series(model_pred)) \n",
    "pred_all = pd.concat([predictions[0],predictions[1],predictions[2],predictions[3],\n",
    "                      predictions[4],predictions[5],predictions[6]], axis=1)\n",
    "pred_all.columns = models.keys()\n",
    "pred_all.corr()"
   ]
  },
  {
   "cell_type": "code",
   "execution_count": 47,
   "metadata": {},
   "outputs": [
    {
     "data": {
      "text/html": [
       "<div>\n",
       "<style scoped>\n",
       "    .dataframe tbody tr th:only-of-type {\n",
       "        vertical-align: middle;\n",
       "    }\n",
       "\n",
       "    .dataframe tbody tr th {\n",
       "        vertical-align: top;\n",
       "    }\n",
       "\n",
       "    .dataframe thead th {\n",
       "        text-align: right;\n",
       "    }\n",
       "</style>\n",
       "<table border=\"1\" class=\"dataframe\">\n",
       "  <thead>\n",
       "    <tr style=\"text-align: right;\">\n",
       "      <th></th>\n",
       "      <th>KNN</th>\n",
       "      <th>MNB</th>\n",
       "      <th>RF</th>\n",
       "      <th>ADABOOST</th>\n",
       "    </tr>\n",
       "  </thead>\n",
       "  <tbody>\n",
       "    <tr>\n",
       "      <th>KNN</th>\n",
       "      <td>1.000000</td>\n",
       "      <td>0.335018</td>\n",
       "      <td>0.569633</td>\n",
       "      <td>0.403688</td>\n",
       "    </tr>\n",
       "    <tr>\n",
       "      <th>MNB</th>\n",
       "      <td>0.335018</td>\n",
       "      <td>1.000000</td>\n",
       "      <td>0.264889</td>\n",
       "      <td>0.257591</td>\n",
       "    </tr>\n",
       "    <tr>\n",
       "      <th>RF</th>\n",
       "      <td>0.569633</td>\n",
       "      <td>0.264889</td>\n",
       "      <td>1.000000</td>\n",
       "      <td>0.432365</td>\n",
       "    </tr>\n",
       "    <tr>\n",
       "      <th>ADABOOST</th>\n",
       "      <td>0.403688</td>\n",
       "      <td>0.257591</td>\n",
       "      <td>0.432365</td>\n",
       "      <td>1.000000</td>\n",
       "    </tr>\n",
       "  </tbody>\n",
       "</table>\n",
       "</div>"
      ],
      "text/plain": [
       "               KNN       MNB        RF  ADABOOST\n",
       "KNN       1.000000  0.335018  0.569633  0.403688\n",
       "MNB       0.335018  1.000000  0.264889  0.257591\n",
       "RF        0.569633  0.264889  1.000000  0.432365\n",
       "ADABOOST  0.403688  0.257591  0.432365  1.000000"
      ]
     },
     "execution_count": 47,
     "metadata": {},
     "output_type": "execute_result"
    }
   ],
   "source": [
    "# Remove SVM, Logistic Regression, and Decision Tree\n",
    "# since these had higher correlations with other models.\n",
    "\n",
    "pred_all.drop([\"LR\", \"SVM\", \"DT\"], axis=1).corr()"
   ]
  },
  {
   "cell_type": "code",
   "execution_count": 48,
   "metadata": {},
   "outputs": [],
   "source": [
    "base = list()\n",
    "base.append(models['KNN'])\n",
    "base.append(models['MNB'])\n",
    "base.append(models['RF'])\n",
    "base.append(models['ADABOOST'])\n",
    "\n",
    " # define meta learner model\n",
    "meta = LogisticRegression(max_iter=1500, multi_class=\"multinomial\", solver='sag',penalty='l2',random_state=11)\n",
    "\n",
    "# define the stacking ensemble\n",
    "stack_model = StackingCVClassifier(classifiers=base, meta_classifier=meta, cv=5, stratify=False, random_state=11, use_probas=True)"
   ]
  },
  {
   "cell_type": "code",
   "execution_count": 49,
   "metadata": {},
   "outputs": [
    {
     "name": "stdout",
     "output_type": "stream",
     "text": [
      "Confusion matrix: Stack \n",
      "[[   0    1   23    0    0]\n",
      " [   0  235    0    0    0]\n",
      " [   0    0 1839    0    0]\n",
      " [   0    0    0  777    0]\n",
      " [   0    0    0    0  129]]\n",
      "Accuracy: 0.9920106524633822\n"
     ]
    }
   ],
   "source": [
    "stack_model.fit(Data, labels)\n",
    "stack_pred = stack_model.predict(Data)\n",
    "stack_cm = metrics.confusion_matrix(labels, stack_pred)\n",
    "print(f\"Confusion matrix: Stack \\n{stack_cm}\")\n",
    "print(f\"Accuracy: {stack_model.score(Data, labels)}\")"
   ]
  },
  {
   "cell_type": "code",
   "execution_count": 50,
   "metadata": {},
   "outputs": [],
   "source": [
    "# kaggle = pd.DataFrame({'id': ids_test, 'imdb_score_binned':stack_model.predict(Test)})\n",
    "# kaggle.to_csv(\"results_stack_engineered_feature.csv\", index=False)"
   ]
  },
  {
   "cell_type": "code",
   "execution_count": 82,
   "metadata": {},
   "outputs": [],
   "source": [
    "# kaggle = pd.DataFrame({'id': ids_test, 'imdb_score_binned': stack_model.predict(Test)})\n",
    "# kaggle.to_csv(\"results_stack99.csv\", index=False)"
   ]
  },
  {
   "cell_type": "code",
   "execution_count": null,
   "metadata": {},
   "outputs": [],
   "source": [
    "# pd.set_option('display.max_columns', None)\n",
    "\n",
    "# Data.head()"
   ]
  }
 ],
 "metadata": {
  "kernelspec": {
   "display_name": "base",
   "language": "python",
   "name": "python3"
  },
  "language_info": {
   "codemirror_mode": {
    "name": "ipython",
    "version": 3
   },
   "file_extension": ".py",
   "mimetype": "text/x-python",
   "name": "python",
   "nbconvert_exporter": "python",
   "pygments_lexer": "ipython3",
   "version": "3.11.4"
  }
 },
 "nbformat": 4,
 "nbformat_minor": 2
}
