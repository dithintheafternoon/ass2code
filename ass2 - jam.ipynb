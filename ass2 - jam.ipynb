{
 "cells": [
  {
   "cell_type": "code",
   "execution_count": 2,
   "metadata": {},
   "outputs": [],
   "source": [
    "import pandas as pd\n",
    "import numpy as np\n",
    "from sklearn.neighbors import KNeighborsClassifier"
   ]
  },
  {
   "cell_type": "code",
   "execution_count": 3,
   "metadata": {},
   "outputs": [],
   "source": [
    "df = pd.read_csv(\"project_data/train_dataset.csv\").dropna(subset=[\"language\"]).reset_index()\n",
    "test = pd.read_csv(\"project_data/test_dataset.csv\")\n",
    "labels = df.iloc[:,-1]\n",
    "# df = df.iloc[:, :-1]\n"
   ]
  },
  {
   "cell_type": "code",
   "execution_count": 65,
   "metadata": {},
   "outputs": [
    {
     "name": "stdout",
     "output_type": "stream",
     "text": [
      "The ZeroR train accuracy is 0.6121837549933422\n"
     ]
    }
   ],
   "source": [
    "zeroR = [2] * test.shape[0]\n",
    "print(f\"The ZeroR train accuracy is {1839/3004}\")"
   ]
  },
  {
   "cell_type": "code",
   "execution_count": 6,
   "metadata": {},
   "outputs": [],
   "source": [
    "def OneR(df, col, labels):\n",
    "    levels = {}\n",
    "\n",
    "    if df.dtypes[col]=='int64':\n",
    "        bins = np.histogram(df[col], bins=4)[1]\n",
    "        values = pd.DataFrame({'var' :   pd.Series(np.digitize(df[col], bins)), \n",
    "                               'label' : labels})  \n",
    "\n",
    "    else:\n",
    "        if len(df[col].unique())<100:\n",
    "            values = pd.DataFrame({'var' :  df[col], 'label' : labels})\n",
    "        else:\n",
    "            return [] # too computationally heavy if too many categories\n",
    "    \n",
    "    for x in values['var'].unique():\n",
    "        class_ = values[values['var'] == x].label.value_counts().nlargest(1, keep='all')\n",
    "\n",
    "        if len(class_)==0: \n",
    "            print(class_)\n",
    "        \n",
    "        if len(class_)>1: levels[x] = class_.sample(n=1)\n",
    "        levels[x] = class_.index[0]\n",
    "\n",
    "    pred = []\n",
    "    for i in range(values.shape[0]):\n",
    "        pred.append(levels[values['var'][i]])\n",
    "    return(pred)"
   ]
  },
  {
   "cell_type": "code",
   "execution_count": 24,
   "metadata": {},
   "outputs": [],
   "source": [
    "def OneR_fit(train, test, col):\n",
    "    levels = {}\n",
    "    \n",
    "    # values is df with the binned values\n",
    "\n",
    "    if train.dtypes[col]=='int64':\n",
    "        bins = np.histogram(train[col], bins=4)[1]\n",
    "        values = pd.DataFrame({'var' :   pd.Series(np.digitize(train[col], bins)), \n",
    "                               'label' : train['imdb_score_binned']})  \n",
    "\n",
    "    else:\n",
    "        if len(train[col].unique())<100:\n",
    "            values = pd.DataFrame({'var' :  train[col], 'label' : train['imdb_score_binned']})\n",
    "        else:\n",
    "            return [] # too computationally heavy if too many categories\n",
    "    \n",
    "    for x in values['var'].unique():\n",
    "        class_ = values[values['var'] == x].label.value_counts().nlargest(1, keep='all')\n",
    "        \n",
    "        if len(class_)>1: levels[x] = class_.sample(n=1)\n",
    "        levels[x] = class_.index[0]\n",
    "\n",
    "    # bin the test values\n",
    "    test_values = pd.Series(np.digitize(test[col], bins))\n",
    "\n",
    "    # Make predictions\n",
    "    pred = []\n",
    "    for i in range(len(test_values)):\n",
    "        pred.append(levels[test_values[i]])\n",
    "    return(pred)  "
   ]
  },
  {
   "cell_type": "code",
   "execution_count": 7,
   "metadata": {},
   "outputs": [],
   "source": [
    "pred_list = {}\n",
    "for i in range(1,df.shape[1]-1):\n",
    "    col = df.columns[i]\n",
    "    predictions = OneR(df, col, labels)\n",
    "    pred_list[col] = predictions"
   ]
  },
  {
   "cell_type": "code",
   "execution_count": 8,
   "metadata": {},
   "outputs": [],
   "source": [
    "scores = {}\n",
    "for col in pred_list.keys():\n",
    "    if len(pred_list[col])>0:\n",
    "        accuracy = pd.DataFrame({'pred':pred_list[col], 'actual':labels})\n",
    "        accuracy['correct'] = accuracy.actual==accuracy.pred\n",
    "        score = sum(accuracy.correct)/len(accuracy.correct)\n",
    "        scores[col] = score\n",
    "top_score = max(scores, key=scores.get)"
   ]
  },
  {
   "cell_type": "code",
   "execution_count": 9,
   "metadata": {},
   "outputs": [
    {
     "name": "stdout",
     "output_type": "stream",
     "text": [
      "The OneR is num_voted_users with accuracy : 0.6363636363636364\n"
     ]
    }
   ],
   "source": [
    "print(f\"The OneR is {top_score} with train accuracy : {scores[top_score]}\")"
   ]
  },
  {
   "cell_type": "markdown",
   "metadata": {},
   "source": [
    "OneR output"
   ]
  },
  {
   "cell_type": "code",
   "execution_count": 25,
   "metadata": {},
   "outputs": [],
   "source": [
    "test_labs = OneR_fit(df, test, top_score)\n",
    "kaggle = pd.DataFrame({'id':test['id'], 'imdb_score_binned': test_labs})\n",
    "kaggle.to_csv(\"results_OneR.csv\", index=False)"
   ]
  },
  {
   "cell_type": "markdown",
   "metadata": {},
   "source": [
    "ZeroR output"
   ]
  },
  {
   "cell_type": "code",
   "execution_count": 32,
   "metadata": {},
   "outputs": [],
   "source": [
    "kaggle0 = pd.DataFrame({'id':test['id'], 'imdb_score_binned': [2] * test.shape[0]})\n",
    "kaggle0.to_csv(\"results_ZeroR.csv\", index=False)"
   ]
  },
  {
   "cell_type": "markdown",
   "metadata": {},
   "source": [
    "# Useful Code (Preprocessing)"
   ]
  },
  {
   "cell_type": "markdown",
   "metadata": {},
   "source": [
    "### Genres - Fixed"
   ]
  },
  {
   "cell_type": "code",
   "execution_count": null,
   "metadata": {},
   "outputs": [],
   "source": [
    "genres = df['genres'].str.split(\"|\")\n",
    "genres = list(set([a for b in genres.tolist() for a in b])) # get all the unique genres\n",
    "\n",
    "for x in genres:\n",
    "    df[x] = df.genres.str.count(x) # this is gonna give 0 or 1 for each row and genre\n",
    "\n",
    "df.drop([\"genres\"], axis=1, inplace=True)    \n"
   ]
  },
  {
   "cell_type": "code",
   "execution_count": 41,
   "metadata": {},
   "outputs": [
    {
     "data": {
      "text/html": [
       "<div>\n",
       "<style scoped>\n",
       "    .dataframe tbody tr th:only-of-type {\n",
       "        vertical-align: middle;\n",
       "    }\n",
       "\n",
       "    .dataframe tbody tr th {\n",
       "        vertical-align: top;\n",
       "    }\n",
       "\n",
       "    .dataframe thead th {\n",
       "        text-align: right;\n",
       "    }\n",
       "</style>\n",
       "<table border=\"1\" class=\"dataframe\">\n",
       "  <thead>\n",
       "    <tr style=\"text-align: right;\">\n",
       "      <th></th>\n",
       "      <th>director_name</th>\n",
       "      <th>actor_2_name</th>\n",
       "      <th>genres</th>\n",
       "      <th>actor_1_name</th>\n",
       "      <th>movie_title</th>\n",
       "      <th>actor_3_name</th>\n",
       "      <th>plot_keywords</th>\n",
       "      <th>language</th>\n",
       "      <th>country</th>\n",
       "      <th>content_rating</th>\n",
       "      <th>title_embedding</th>\n",
       "    </tr>\n",
       "  </thead>\n",
       "  <tbody>\n",
       "    <tr>\n",
       "      <th>count</th>\n",
       "      <td>3003</td>\n",
       "      <td>3003</td>\n",
       "      <td>3003</td>\n",
       "      <td>3003</td>\n",
       "      <td>3003</td>\n",
       "      <td>3003</td>\n",
       "      <td>3003</td>\n",
       "      <td>3003</td>\n",
       "      <td>3003</td>\n",
       "      <td>3003</td>\n",
       "      <td>3003</td>\n",
       "    </tr>\n",
       "    <tr>\n",
       "      <th>unique</th>\n",
       "      <td>1459</td>\n",
       "      <td>1902</td>\n",
       "      <td>675</td>\n",
       "      <td>1264</td>\n",
       "      <td>2941</td>\n",
       "      <td>2197</td>\n",
       "      <td>2942</td>\n",
       "      <td>32</td>\n",
       "      <td>42</td>\n",
       "      <td>12</td>\n",
       "      <td>2941</td>\n",
       "    </tr>\n",
       "    <tr>\n",
       "      <th>top</th>\n",
       "      <td>Steven Spielberg</td>\n",
       "      <td>Morgan Freeman</td>\n",
       "      <td>Comedy|Drama|Romance</td>\n",
       "      <td>Johnny Depp</td>\n",
       "      <td>King Kong</td>\n",
       "      <td>Steve Coogan</td>\n",
       "      <td>animal name in title|ape abducts a woman|goril...</td>\n",
       "      <td>English</td>\n",
       "      <td>USA</td>\n",
       "      <td>R</td>\n",
       "      <td>[-2.8369315e-03  1.3950688e-03 -3.8431014e-04 ...</td>\n",
       "    </tr>\n",
       "    <tr>\n",
       "      <th>freq</th>\n",
       "      <td>21</td>\n",
       "      <td>15</td>\n",
       "      <td>122</td>\n",
       "      <td>30</td>\n",
       "      <td>3</td>\n",
       "      <td>7</td>\n",
       "      <td>3</td>\n",
       "      <td>2872</td>\n",
       "      <td>2381</td>\n",
       "      <td>1362</td>\n",
       "      <td>3</td>\n",
       "    </tr>\n",
       "  </tbody>\n",
       "</table>\n",
       "</div>"
      ],
      "text/plain": [
       "           director_name    actor_2_name                genres actor_1_name  \\\n",
       "count               3003            3003                  3003         3003   \n",
       "unique              1459            1902                   675         1264   \n",
       "top     Steven Spielberg  Morgan Freeman  Comedy|Drama|Romance  Johnny Depp   \n",
       "freq                  21              15                   122           30   \n",
       "\n",
       "       movie_title  actor_3_name  \\\n",
       "count         3003          3003   \n",
       "unique        2941          2197   \n",
       "top     King Kong   Steve Coogan   \n",
       "freq             3             7   \n",
       "\n",
       "                                            plot_keywords language country  \\\n",
       "count                                                3003     3003    3003   \n",
       "unique                                               2942       32      42   \n",
       "top     animal name in title|ape abducts a woman|goril...  English     USA   \n",
       "freq                                                    3     2872    2381   \n",
       "\n",
       "       content_rating                                    title_embedding  \n",
       "count            3003                                               3003  \n",
       "unique             12                                               2941  \n",
       "top                 R  [-2.8369315e-03  1.3950688e-03 -3.8431014e-04 ...  \n",
       "freq             1362                                                  3  "
      ]
     },
     "execution_count": 41,
     "metadata": {},
     "output_type": "execute_result"
    }
   ],
   "source": [
    "df.describe(include=[object])"
   ]
  },
  {
   "cell_type": "code",
   "execution_count": null,
   "metadata": {},
   "outputs": [],
   "source": []
  }
 ],
 "metadata": {
  "kernelspec": {
   "display_name": "Python 3",
   "language": "python",
   "name": "python3"
  },
  "language_info": {
   "codemirror_mode": {
    "name": "ipython",
    "version": 3
   },
   "file_extension": ".py",
   "mimetype": "text/x-python",
   "name": "python",
   "nbconvert_exporter": "python",
   "pygments_lexer": "ipython3",
   "version": "3.9.6"
  }
 },
 "nbformat": 4,
 "nbformat_minor": 2
}
