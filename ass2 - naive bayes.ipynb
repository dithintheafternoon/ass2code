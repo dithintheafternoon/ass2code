{
 "cells": [
  {
   "cell_type": "code",
   "execution_count": 17,
   "metadata": {},
   "outputs": [],
   "source": [
    "import pandas as pd\n",
    "import numpy as np\n",
    "from sklearn import preprocessing\n",
    "import matplotlib.pyplot as plt\n",
    "from sklearn.naive_bayes import MultinomialNB\n",
    "from sklearn.model_selection import RepeatedStratifiedKFold, StratifiedKFold, GridSearchCV, RandomizedSearchCV"
   ]
  },
  {
   "cell_type": "code",
   "execution_count": 18,
   "metadata": {},
   "outputs": [],
   "source": [
    "director = np.load(\"features_countvec/train_countvec_features_director_name.npy\")\n",
    "actor1 = np.load(\"features_countvec/train_countvec_features_actor_1_name.npy\")\n",
    "actor2 = np.load(\"features_countvec/train_countvec_features_actor_2_name.npy\")\n",
    "\n",
    "director_test = np.load(\"features_countvec/test_countvec_features_director_name.npy\")\n",
    "actor1_test = np.load(\"features_countvec/test_countvec_features_actor_1_name.npy\")\n",
    "actor2_test = np.load(\"features_countvec/test_countvec_features_actor_2_name.npy\")\n",
    "\n",
    "df = pd.read_csv(\"train_dataset.csv\")\n",
    "test = pd.read_csv(\"test_dataset.csv\")\n",
    "\n",
    "#nullrow = df[df.isnull().any(axis=1)].index[0]\n",
    "labels = df['imdb_score_binned']"
   ]
  },
  {
   "cell_type": "code",
   "execution_count": 19,
   "metadata": {},
   "outputs": [],
   "source": [
    "def preproc(df):\n",
    "    df.average_degree_centrality = pd.qcut(df.average_degree_centrality, 5, labels=[0,1,2,3,4])\n",
    "\n",
    "    # Fix the genre column\n",
    "\n",
    "    genres = df['genres'].str.split(\"|\")\n",
    "    genres = list(set([a for b in genres.tolist() for a in b])) # get all the unique genres\n",
    "\n",
    "    for x in genres:\n",
    "        df[x] = df.genres.str.count(x) # this is gonna give 0 or 1 for each row and genre\n",
    "\n",
    "    df.drop([\"genres\"], axis=1, inplace=True)\n",
    "\n",
    "    # One hot encode language, country, content_rating\n",
    "    df = pd.get_dummies(df, columns=[\"language\", \"country\", \"content_rating\"], dtype=float)\n",
    "\n",
    "    ids = df.id\n",
    "    df = df.iloc[:,2:].select_dtypes(['number'])\n",
    "\n",
    "    return([df, ids])"
   ]
  },
  {
   "cell_type": "code",
   "execution_count": 20,
   "metadata": {},
   "outputs": [],
   "source": [
    "df.drop(columns=['imdb_score_binned', 'director_name', 'actor_1_name', 'actor_2_name'], axis=1, inplace=True)\n",
    "test.drop(columns=['director_name', 'actor_1_name', 'actor_2_name'], axis=1, inplace=True)\n",
    "Data, ids_train = preproc(df)\n",
    "Test, ids_test = preproc(test)"
   ]
  },
  {
   "cell_type": "code",
   "execution_count": 21,
   "metadata": {},
   "outputs": [],
   "source": [
    "# ensure the one hot encoded columns are all the same and in the same order\n",
    "\n",
    "train_cols = Data.columns\n",
    "test_cols = Test.columns\n",
    "missing_levels = train_cols.difference(test_cols)\n",
    "\n",
    "for x in missing_levels:\n",
    "    Test[x] = 0\n",
    "Test = Test[Data.columns]"
   ]
  },
  {
   "cell_type": "code",
   "execution_count": 22,
   "metadata": {},
   "outputs": [],
   "source": [
    "Test = pd.concat([Test, pd.DataFrame(director_test)], axis=1)\n",
    "Test = pd.concat([Test, pd.DataFrame(actor1_test)], axis=1)\n",
    "Test = pd.concat([Test, pd.DataFrame(actor2_test)], axis=1)\n",
    "\n",
    "Data = pd.concat([Data, pd.DataFrame(director)], axis=1)\n",
    "Data = pd.concat([Data, pd.DataFrame(actor1)], axis=1)\n",
    "Data = pd.concat([Data, pd.DataFrame(actor2)], axis=1)\n",
    "\n",
    "Data.columns = Data.columns.astype(str)\n",
    "Test.columns = Test.columns.astype(str)"
   ]
  },
  {
   "cell_type": "code",
   "execution_count": 23,
   "metadata": {},
   "outputs": [],
   "source": [
    "Data_copy = Data.copy() # Make a copy to recall the column names after scaling.\n",
    "\n",
    "Data_scaler = preprocessing.MinMaxScaler() # create scaler\n",
    "Data_scaler.fit(Data) #fit scaler\n",
    "Data = Data_scaler.fit_transform(Data)\n",
    "Data_df = pd.DataFrame(Data, columns = Data_copy.columns)\n",
    "\n",
    "Test = Data_scaler.fit_transform(Test)\n",
    "Test_df = pd.DataFrame(Test, columns = Data_copy.columns)"
   ]
  },
  {
   "cell_type": "code",
   "execution_count": 24,
   "metadata": {},
   "outputs": [],
   "source": [
    "perf_metric = \"accuracy\" \n",
    "params = {\"alpha\": [0.01, 0.1, 0.5, 1.0, 5.0, 10.0]}\n",
    "\n",
    "cv_method = RepeatedStratifiedKFold(n_splits=5,\n",
    "                                    n_repeats=3,\n",
    "                                    random_state=999)"
   ]
  },
  {
   "cell_type": "code",
   "execution_count": 25,
   "metadata": {},
   "outputs": [],
   "source": [
    "gs_NB = GridSearchCV(estimator=MultinomialNB(),\n",
    "                     param_grid=params, \n",
    "                     cv=cv_method,\n",
    "                     verbose=0,\n",
    "                     scoring=perf_metric)\n",
    "\n",
    "gs_NB.fit(Data, labels);"
   ]
  },
  {
   "cell_type": "code",
   "execution_count": 26,
   "metadata": {},
   "outputs": [
    {
     "name": "stdout",
     "output_type": "stream",
     "text": [
      "Best parameters: {'alpha': 1.0}\n",
      "Best score: 0.6320452948789055\n"
     ]
    }
   ],
   "source": [
    "print(f\"Best parameters: {gs_NB.best_params_}\")\n",
    "print(f\"Best score: {gs_NB.best_score_}\")"
   ]
  },
  {
   "cell_type": "code",
   "execution_count": 11,
   "metadata": {},
   "outputs": [
    {
     "name": "stderr",
     "output_type": "stream",
     "text": [
      "No artists with labels found to put in legend.  Note that artists whose label start with an underscore are ignored when legend() is called with no argument.\n"
     ]
    },
    {
     "data": {
      "image/png": "[encoded data removed]",
      "text/plain": [
       "<Figure size 640x480 with 1 Axes>"
      ]
     },
     "metadata": {},
     "output_type": "display_data"
    }
   ],
   "source": [
    "results_NB = pd.DataFrame(gs_NB.cv_results_['params'])\n",
    "results_NB['test_score'] = gs_NB.cv_results_['mean_test_score']\n",
    "\n",
    "plt.plot(results_NB['alpha'], results_NB['test_score'], marker = '.')\n",
    "    \n",
    "plt.legend()\n",
    "plt.xlabel('Alpha')\n",
    "plt.ylabel(\"Mean CV Score\")\n",
    "plt.title(\"NB Hyper-parameter Performance\")\n",
    "plt.show()\n",
    "\n",
    "# like before the graph indicates we don't need to search through higher parameters.\n",
    "# the number of estimators didn't make a huge difference, the 500 and 250 curves are quite similar, 100 estimators \n",
    "# has a big jump then behaves like the other curves."
   ]
  },
  {
   "cell_type": "code",
   "execution_count": 12,
   "metadata": {},
   "outputs": [],
   "source": [
    "test_pred = gs_NB.predict(Test)"
   ]
  },
  {
   "cell_type": "code",
   "execution_count": 13,
   "metadata": {},
   "outputs": [],
   "source": [
    "NB_kaggle = pd.DataFrame({'id':ids_test, 'imdb_score_binned': test_pred})\n",
    "NB_kaggle.to_csv(\"results_NB_all_cols.csv\", index=False)"
   ]
  },
  {
   "cell_type": "code",
   "execution_count": 12,
   "metadata": {},
   "outputs": [
    {
     "data": {
      "text/plain": [
       "count    3004.000000\n",
       "mean        0.001739\n",
       "std         0.001183\n",
       "min         0.000300\n",
       "25%         0.000825\n",
       "50%         0.001426\n",
       "75%         0.002401\n",
       "max         0.007354\n",
       "Name: average_degree_centrality, dtype: float64"
      ]
     },
     "execution_count": 12,
     "metadata": {},
     "output_type": "execute_result"
    }
   ],
   "source": [
    "df.average_degree_centrality.describe()"
   ]
  },
  {
   "cell_type": "code",
   "execution_count": null,
   "metadata": {},
   "outputs": [],
   "source": []
  }
 ],
 "metadata": {
  "kernelspec": {
   "display_name": "Python 3",
   "language": "python",
   "name": "python3"
  },
  "language_info": {
   "codemirror_mode": {
    "name": "ipython",
    "version": 3
   },
   "file_extension": ".py",
   "mimetype": "text/x-python",
   "name": "python",
   "nbconvert_exporter": "python",
   "pygments_lexer": "ipython3",
   "version": "3.9.6"
  }
 },
 "nbformat": 4,
 "nbformat_minor": 2
}
