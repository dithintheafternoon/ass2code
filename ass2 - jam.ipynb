{
 "cells": [
  {
   "cell_type": "code",
   "execution_count": 2,
   "metadata": {},
   "outputs": [],
   "source": [
    "import pandas as pd\n",
    "import numpy as np\n",
    "from sklearn.neighbors import KNeighborsClassifier"
   ]
  },
  {
   "cell_type": "code",
   "execution_count": 330,
   "metadata": {},
   "outputs": [],
   "source": [
    "df = pd.read_csv(\"project_data/train_dataset.csv\").dropna(subset=[\"language\"]).reset_index()\n",
    "test = pd.read_csv(\"project_data/test_dataset.csv\")\n",
    "labels = df.iloc[:,-1]\n",
    "# df = df.iloc[:, :-1]\n"
   ]
  },
  {
   "cell_type": "code",
   "execution_count": 18,
   "metadata": {},
   "outputs": [],
   "source": [
    "zeroR = [2] * test.shape[0]"
   ]
  },
  {
   "cell_type": "code",
   "execution_count": 356,
   "metadata": {},
   "outputs": [
    {
     "name": "stdout",
     "output_type": "stream",
     "text": [
      "The ZeroR accuracy is 0.6121837549933422\n"
     ]
    }
   ],
   "source": [
    "print(f\"The ZeroR accuracy is {1839/3004}\")"
   ]
  },
  {
   "cell_type": "code",
   "execution_count": 336,
   "metadata": {},
   "outputs": [],
   "source": [
    "def OneR(df, col, labels):\n",
    "    levels = {}\n",
    "\n",
    "    if df.dtypes[col]=='int64':\n",
    "        bins = np.histogram(df[col], bins=4)[1]\n",
    "        values = pd.DataFrame({'var' :   pd.Series(np.digitize(df[col], bins)), \n",
    "                               'label' : labels})  \n",
    "\n",
    "    else:\n",
    "        if len(df[col].unique())<100:\n",
    "            values = pd.DataFrame({'var' :  df[col], 'label' : labels})\n",
    "        else:\n",
    "            return [] # too computationally heavy if too many categories\n",
    "    \n",
    "    for x in values['var'].unique():\n",
    "        class_ = values[values['var'] == x].label.value_counts().nlargest(1, keep='all')\n",
    "\n",
    "        if len(class_)==0: \n",
    "            print(class_)\n",
    "        \n",
    "        if len(class_)>1: levels[x] = class_.sample(n=1)\n",
    "        levels[x] = class_.index[0]\n",
    "\n",
    "    pred = []\n",
    "    for i in range(values.shape[0]):\n",
    "        pred.append(levels[values['var'][i]])\n",
    "    return(pred)"
   ]
  },
  {
   "cell_type": "code",
   "execution_count": 338,
   "metadata": {},
   "outputs": [],
   "source": [
    "pred_list = {}\n",
    "for i in range(1,df.shape[1]-1):\n",
    "    col = df.columns[i]\n",
    "    predictions = OneR(df, col, labels)\n",
    "    pred_list[col] = predictions"
   ]
  },
  {
   "cell_type": "code",
   "execution_count": 350,
   "metadata": {},
   "outputs": [],
   "source": [
    "scores = {}\n",
    "for col in pred_list.keys():\n",
    "    if len(pred_list[col])>0:\n",
    "        accuracy = pd.DataFrame({'pred':pred_list[col], 'actual':labels})\n",
    "        accuracy['correct'] = accuracy.actual==accuracy.pred\n",
    "        score = sum(accuracy.correct)/len(accuracy.correct)\n",
    "        scores[col] = score\n",
    "top_score = max(scores, key=scores.get)"
   ]
  },
  {
   "cell_type": "code",
   "execution_count": 355,
   "metadata": {},
   "outputs": [
    {
     "name": "stdout",
     "output_type": "stream",
     "text": [
      "The OneR is num_voted_users with accuracy : 0.6363636363636364\n"
     ]
    }
   ],
   "source": [
    "print(f\"The OneR is {top_score} with accuracy : {scores[top_score]}\")"
   ]
  },
  {
   "cell_type": "code",
   "execution_count": null,
   "metadata": {},
   "outputs": [],
   "source": []
  }
 ],
 "metadata": {
  "kernelspec": {
   "display_name": "Python 3",
   "language": "python",
   "name": "python3"
  },
  "language_info": {
   "codemirror_mode": {
    "name": "ipython",
    "version": 3
   },
   "file_extension": ".py",
   "mimetype": "text/x-python",
   "name": "python",
   "nbconvert_exporter": "python",
   "pygments_lexer": "ipython3",
   "version": "3.9.6"
  }
 },
 "nbformat": 4,
 "nbformat_minor": 2
}
